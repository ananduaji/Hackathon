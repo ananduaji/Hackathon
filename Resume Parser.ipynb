{
 "cells": [
  {
   "cell_type": "markdown",
   "id": "ae0f0fac",
   "metadata": {},
   "source": [
    "Loading and extracting the text in the pdf file."
   ]
  },
  {
   "cell_type": "code",
   "execution_count": 167,
   "id": "a38d1d30",
   "metadata": {},
   "outputs": [],
   "source": [
    "from pdfminer.high_level import extract_text\n",
    "# text = extract_text('/home/anandu/Anandu_Aji_Resume.pdf')\n",
    "# text = extract_text('/home/anandu/Downloads/Resumes/SHAMEEM RESUME.pdf')\n",
    "text = extract_text('/home/anandu/Downloads/Resumes/Rahul C.pdf')"
   ]
  },
  {
   "cell_type": "code",
   "execution_count": 168,
   "id": "6f7ff819",
   "metadata": {},
   "outputs": [],
   "source": [
    "txt = text.split()"
   ]
  },
  {
   "cell_type": "code",
   "execution_count": 169,
   "id": "10537cb8",
   "metadata": {},
   "outputs": [
    {
     "data": {
      "text/plain": [
       "['RAHUL',\n",
       " 'C',\n",
       " 'DJANGO',\n",
       " 'DEVELOPER',\n",
       " 'rahuljeykarc6@gmail.com',\n",
       " '9633557649',\n",
       " 'Chennamkulath(H)',\n",
       " 'Kololamba',\n",
       " 'P.O',\n",
       " 'Edappal',\n",
       " 'Pin',\n",
       " '-',\n",
       " '679576',\n",
       " 'www.linkedin.com/in/rahul-c-900542227',\n",
       " 'Objective',\n",
       " 'I',\n",
       " 'am',\n",
       " 'a',\n",
       " 'B',\n",
       " 'com',\n",
       " 'graduate',\n",
       " 'but',\n",
       " 'very',\n",
       " 'passionate',\n",
       " 'about',\n",
       " 'coding.',\n",
       " 'So',\n",
       " 'I',\n",
       " 'changed',\n",
       " 'my',\n",
       " 'carrer',\n",
       " 'to',\n",
       " 'IT',\n",
       " 'to',\n",
       " 'become',\n",
       " 'a',\n",
       " 'python',\n",
       " 'developer.',\n",
       " 'I',\n",
       " 'am',\n",
       " 'creative,',\n",
       " 'ambitious',\n",
       " 'and',\n",
       " 'passionate',\n",
       " 'intern',\n",
       " 'seeking',\n",
       " 'a',\n",
       " 'position',\n",
       " 'as',\n",
       " 'a',\n",
       " 'django',\n",
       " 'and',\n",
       " 'angular',\n",
       " 'developer',\n",
       " 'with',\n",
       " 'programming',\n",
       " 'concepts',\n",
       " 'utilizing',\n",
       " 'excellence',\n",
       " 'in',\n",
       " 'producing',\n",
       " 'concepts',\n",
       " 'and',\n",
       " 'implementing',\n",
       " 'them',\n",
       " 'in',\n",
       " 'the',\n",
       " 'form',\n",
       " 'of',\n",
       " 'web',\n",
       " 'application.',\n",
       " 'Work',\n",
       " 'Experience',\n",
       " '10/01/2022',\n",
       " '-',\n",
       " 'Present',\n",
       " 'Luminar',\n",
       " 'Technolab',\n",
       " 'Attending',\n",
       " '6',\n",
       " 'month',\n",
       " 'internship',\n",
       " 'at',\n",
       " 'Luminar',\n",
       " 'Technolab',\n",
       " 'Kakkanad,',\n",
       " 'Kochi',\n",
       " '2017',\n",
       " '-',\n",
       " '2020',\n",
       " 'Calicut',\n",
       " 'University',\n",
       " 'B',\n",
       " 'Com',\n",
       " 'Co-operation',\n",
       " 'Education',\n",
       " '2015',\n",
       " '-',\n",
       " '2017',\n",
       " 'DHOHSS',\n",
       " 'Pookkarathara',\n",
       " '-',\n",
       " '2015',\n",
       " 'DHOHSS',\n",
       " 'Pookkarathara',\n",
       " 'Plus',\n",
       " 'Two',\n",
       " '10th',\n",
       " 'SSLC',\n",
       " 'Technical',\n",
       " 'Skills',\n",
       " 'Python',\n",
       " 'Django',\n",
       " 'Angular',\n",
       " 'HTML,',\n",
       " 'CSS',\n",
       " 'SQL',\n",
       " 'C',\n",
       " 'Java',\n",
       " 'Git',\n",
       " 'Problem-solving',\n",
       " 'skills',\n",
       " 'Communication',\n",
       " 'skills',\n",
       " 'Hard',\n",
       " 'working',\n",
       " 'Punctuality',\n",
       " 'Team',\n",
       " 'works',\n",
       " 'English',\n",
       " 'Malayalam',\n",
       " 'Cinema',\n",
       " 'Books',\n",
       " 'Music',\n",
       " 'Coding',\n",
       " 'Travelling',\n",
       " 'Skills',\n",
       " 'Languages',\n",
       " 'Hobbies',\n",
       " 'Declaration',\n",
       " 'I',\n",
       " 'here',\n",
       " 'by',\n",
       " 'declared',\n",
       " 'that',\n",
       " 'the',\n",
       " 'above',\n",
       " 'statements',\n",
       " 'are',\n",
       " 'true',\n",
       " 'to',\n",
       " 'the',\n",
       " 'best',\n",
       " 'of',\n",
       " 'my',\n",
       " 'knowledge.',\n",
       " 'Rahul',\n",
       " 'C']"
      ]
     },
     "execution_count": 169,
     "metadata": {},
     "output_type": "execute_result"
    }
   ],
   "source": [
    "txt"
   ]
  },
  {
   "cell_type": "code",
   "execution_count": 170,
   "id": "f792611b",
   "metadata": {},
   "outputs": [],
   "source": [
    "import spacy\n",
    "lst = []\n",
    "Name = []\n",
    "nlp = spacy.load(\"en_core_web_sm\")\n",
    "doc = nlp(text)\n",
    "for tok in doc:\n",
    "    lst.append([tok, tok.pos_])\n",
    "    \n",
    "for i in range(0, len(lst)):\n",
    "    if lst[i][1] == 'PROPN':\n",
    "        if lst[i+1][1] == 'PROPN':\n",
    "            Name.append(lst[i][0])\n",
    "            Name.append(lst[i+1][0])\n",
    "            break"
   ]
  },
  {
   "cell_type": "code",
   "execution_count": 171,
   "id": "b7c34e36",
   "metadata": {},
   "outputs": [
    {
     "data": {
      "text/plain": [
       "[RAHUL, C]"
      ]
     },
     "execution_count": 171,
     "metadata": {},
     "output_type": "execute_result"
    }
   ],
   "source": [
    "Name"
   ]
  },
  {
   "cell_type": "code",
   "execution_count": 172,
   "id": "af8138cd",
   "metadata": {},
   "outputs": [
    {
     "data": {
      "text/plain": [
       "['rahuljeykarc6@gmail.com']"
      ]
     },
     "execution_count": 172,
     "metadata": {},
     "output_type": "execute_result"
    }
   ],
   "source": [
    "import re \n",
    "\n",
    "Email = re.findall('\\S+@\\S+', text)     \n",
    "\n",
    "Email"
   ]
  },
  {
   "cell_type": "code",
   "execution_count": 173,
   "id": "31328e98",
   "metadata": {},
   "outputs": [],
   "source": [
    "phone = []\n",
    "lst = re.findall('((\\+*)((0[ -]*)*|((91 )*))((\\d{12})+|(\\d{10})+))|\\d{5}([- ]*)\\d{6}', text)\n",
    "for i in lst:\n",
    "    phone.append(i[0])"
   ]
  },
  {
   "cell_type": "code",
   "execution_count": 174,
   "id": "a3dd5fb4",
   "metadata": {},
   "outputs": [
    {
     "data": {
      "text/plain": [
       "['9633557649']"
      ]
     },
     "execution_count": 174,
     "metadata": {},
     "output_type": "execute_result"
    }
   ],
   "source": [
    "phone"
   ]
  },
  {
   "cell_type": "markdown",
   "id": "b9ec570b",
   "metadata": {},
   "source": [
    "These are the basic skillset of a MEARN stack developer. The Recruiter can add the skills that they wish the applicants should have."
   ]
  },
  {
   "cell_type": "code",
   "execution_count": 175,
   "id": "1e56c644",
   "metadata": {},
   "outputs": [],
   "source": [
    "skill_sets_mearn = ['javascript','node.js','react.js','express.js','mongodb','postgresql','rest apis','android studio','java','php','socket io','redux','git','github','aws','nginx','photoshop','illustrator','figma','css3','bootstrap5','html5']"
   ]
  },
  {
   "cell_type": "markdown",
   "id": "ec264232",
   "metadata": {},
   "source": [
    "These are the basic skill sets of a data scientist"
   ]
  },
  {
   "cell_type": "code",
   "execution_count": 176,
   "id": "ef94541f",
   "metadata": {},
   "outputs": [],
   "source": [
    "skill_sets_data = ['hadoop', 'c++', 'pig', 'piglatin', 'keras', 'tensorflow', 'pandas', 'numpy', 'pickle', 'scikit learn', 'hive', 'python', 'tableau', 'power bi', 'sql']"
   ]
  },
  {
   "cell_type": "code",
   "execution_count": 177,
   "id": "81942ee4",
   "metadata": {},
   "outputs": [],
   "source": [
    "skills = []\n",
    "for i in txt:\n",
    "    if i.lower() in skill_sets_mearn:\n",
    "        skills.append(i)"
   ]
  },
  {
   "cell_type": "code",
   "execution_count": 178,
   "id": "b94b6f61",
   "metadata": {},
   "outputs": [
    {
     "data": {
      "text/plain": [
       "['Java', 'Git']"
      ]
     },
     "execution_count": 178,
     "metadata": {},
     "output_type": "execute_result"
    }
   ],
   "source": [
    "skills"
   ]
  },
  {
   "cell_type": "code",
   "execution_count": 179,
   "id": "22a96098",
   "metadata": {},
   "outputs": [],
   "source": [
    "Resume_Details = {'parser_output':{'Name':Name, 'EmailID':Email, 'ContactNo.':phone}, 'Skill': skills}"
   ]
  },
  {
   "cell_type": "code",
   "execution_count": 180,
   "id": "7003f5f9",
   "metadata": {},
   "outputs": [
    {
     "name": "stdout",
     "output_type": "stream",
     "text": [
      "{'parser_output': {'Name': [RAHUL, C], 'EmailID': ['rahuljeykarc6@gmail.com'], 'ContactNo.': ['9633557649']}, 'Skill': ['Java', 'Git']}\n"
     ]
    }
   ],
   "source": [
    "print(Resume_Details)"
   ]
  },
  {
   "cell_type": "code",
   "execution_count": null,
   "id": "4fc69996",
   "metadata": {},
   "outputs": [],
   "source": []
  },
  {
   "cell_type": "code",
   "execution_count": null,
   "id": "c7c0a914",
   "metadata": {},
   "outputs": [],
   "source": []
  }
 ],
 "metadata": {
  "kernelspec": {
   "display_name": "Python 3 (ipykernel)",
   "language": "python",
   "name": "python3"
  },
  "language_info": {
   "codemirror_mode": {
    "name": "ipython",
    "version": 3
   },
   "file_extension": ".py",
   "mimetype": "text/x-python",
   "name": "python",
   "nbconvert_exporter": "python",
   "pygments_lexer": "ipython3",
   "version": "3.9.7"
  }
 },
 "nbformat": 4,
 "nbformat_minor": 5
}
